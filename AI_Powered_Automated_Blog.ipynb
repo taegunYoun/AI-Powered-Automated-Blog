{
  "nbformat": 4,
  "nbformat_minor": 0,
  "metadata": {
    "colab": {
      "provenance": [],
      "authorship_tag": "ABX9TyO6ndJwFH2qtchYHKMNATfe",
      "include_colab_link": true
    },
    "kernelspec": {
      "name": "python3",
      "display_name": "Python 3"
    },
    "language_info": {
      "name": "python"
    },
    "widgets": {
      "application/vnd.jupyter.widget-state+json": {
        "bedd42b334d94c55992dc1164cccad01": {
          "model_module": "@jupyter-widgets/controls",
          "model_name": "TextareaModel",
          "model_module_version": "1.5.0",
          "state": {
            "_dom_classes": [],
            "_model_module": "@jupyter-widgets/controls",
            "_model_module_version": "1.5.0",
            "_model_name": "TextareaModel",
            "_view_count": null,
            "_view_module": "@jupyter-widgets/controls",
            "_view_module_version": "1.5.0",
            "_view_name": "TextareaView",
            "continuous_update": true,
            "description": "",
            "description_tooltip": null,
            "disabled": false,
            "layout": "IPY_MODEL_7e83c0125dc84d1bbdee9ce9198eba91",
            "placeholder": "여기에 기사를 수정하세요...",
            "rows": null,
            "style": "IPY_MODEL_4c43cf0255d546ab90fd308ce67a48f2",
            "value": "[AI 혁신, 스마트폰과 교통 시스템에 불러온 변화]\n\n최근 IT 업계에서는 인공지능(AI)의 혁신이 눈에 띄게 진행되고 있어요. 특히, 삼성의 갤럭시 S 시리즈에 오픈 AI의 챗GPT가 탑재될 가능성이 높아 주목받고 있죠. 이와 함께 애플도 인공지능 모델인 애플 인텔리전스와 음성 비서 시리(Siri)를 iOS 18.4 베타 버전에 통합하며 AI 기술을 향한 발걸음을 이어가고 있습니다. 그렇다면, AI가 우리 일상에 어떤 변화를 가져올까요?\n\n먼저, 삼성 갤럭시 S 시리즈에 챗GPT가 탑재된다면 어떤 변화가 있을까요? 이 기술은 사용자와의 상호작용을 더욱 자연스럽게 만들어 줄 것으로 기대됩니다. 사용자가 질문을 던지면, 챗GPT는 그 질문에 대한 맥락을 이해하고 적절한 답변을 제공할 수 있게 될 것입니다. 예를 들어, '오늘 날씨 어때?'라고 물으면, 단순한 날씨 정보뿐만 아니라, 사용자의 일정을 고려한 추천까지 가능하게 될지도 모릅니다.\n\n그런데 AI 응답의 신뢰도는 어떨까요? 최근 SRT와 관련하여 AI의 응답 신뢰도를 분석한 결과, 챗GPT를 포함한 국내외 AI 도구에 질문을 던졌을 때 20건 중 17건이나 잘못된 답변을 제공했다고 해요. AI가 아직 완벽하지 않다는 것을 보여주는 사례죠. 예를 들어, SRT 열차 내에서 컵라면을 먹기 위해 승무원에게 요청해야 한다는 잘못된 답변도 있었어요. 그럼에도 불구하고, AI 기술의 발전은 멈추지 않을 것입니다.\n\n애플도 이 흐름에 따라 음성 비서 시리의 기능을 더욱 강화하고 있습니다. 시리가 애플 인텔리전스와 결합되면, 사용자 경험이 더욱 개인화될 것입니다. 이는 단순한 정보 전달을 넘어, 사용자의 일상 속에서 더 유용하게 활용될 수 있도록 돕는 것이죠.\n\n결국, AI의 도입과 발전은 우리의 삶에 긍정적인 영향을 미칠 가능성이 큽니다. 물론, 현재로서는 AI가 완벽하지 않다는 점을 인식하고, 이를 보완해 나가야 할 필요가 있습니다. 앞으로 AI가 가져올 다양한 변화와 혁신을 기대하며, 기술과 인간의 조화로운 공존을 모색해 나가야 할 것입니다. AI는 단순한 도구가 아닌, 우리의 삶을 더욱 풍요롭게 만들어 줄 동반자가 될 것입니다."
          }
        },
        "7e83c0125dc84d1bbdee9ce9198eba91": {
          "model_module": "@jupyter-widgets/base",
          "model_name": "LayoutModel",
          "model_module_version": "1.2.0",
          "state": {
            "_model_module": "@jupyter-widgets/base",
            "_model_module_version": "1.2.0",
            "_model_name": "LayoutModel",
            "_view_count": null,
            "_view_module": "@jupyter-widgets/base",
            "_view_module_version": "1.2.0",
            "_view_name": "LayoutView",
            "align_content": null,
            "align_items": null,
            "align_self": null,
            "border": null,
            "bottom": null,
            "display": null,
            "flex": null,
            "flex_flow": null,
            "grid_area": null,
            "grid_auto_columns": null,
            "grid_auto_flow": null,
            "grid_auto_rows": null,
            "grid_column": null,
            "grid_gap": null,
            "grid_row": null,
            "grid_template_areas": null,
            "grid_template_columns": null,
            "grid_template_rows": null,
            "height": "400px",
            "justify_content": null,
            "justify_items": null,
            "left": null,
            "margin": null,
            "max_height": null,
            "max_width": null,
            "min_height": null,
            "min_width": null,
            "object_fit": null,
            "object_position": null,
            "order": null,
            "overflow": null,
            "overflow_x": null,
            "overflow_y": null,
            "padding": null,
            "right": null,
            "top": null,
            "visibility": null,
            "width": "100%"
          }
        },
        "4c43cf0255d546ab90fd308ce67a48f2": {
          "model_module": "@jupyter-widgets/controls",
          "model_name": "DescriptionStyleModel",
          "model_module_version": "1.5.0",
          "state": {
            "_model_module": "@jupyter-widgets/controls",
            "_model_module_version": "1.5.0",
            "_model_name": "DescriptionStyleModel",
            "_view_count": null,
            "_view_module": "@jupyter-widgets/base",
            "_view_module_version": "1.2.0",
            "_view_name": "StyleView",
            "description_width": ""
          }
        },
        "39f60383e07446cb9f833742bb481e99": {
          "model_module": "@jupyter-widgets/controls",
          "model_name": "ButtonModel",
          "model_module_version": "1.5.0",
          "state": {
            "_dom_classes": [],
            "_model_module": "@jupyter-widgets/controls",
            "_model_module_version": "1.5.0",
            "_model_name": "ButtonModel",
            "_view_count": null,
            "_view_module": "@jupyter-widgets/controls",
            "_view_module_version": "1.5.0",
            "_view_name": "ButtonView",
            "button_style": "",
            "description": "✅ 기사 확정",
            "disabled": false,
            "icon": "",
            "layout": "IPY_MODEL_e8dfd69ee2f14639866b42683718146e",
            "style": "IPY_MODEL_a17c95b979314931ab5e2d47c9d27aad",
            "tooltip": ""
          }
        },
        "e8dfd69ee2f14639866b42683718146e": {
          "model_module": "@jupyter-widgets/base",
          "model_name": "LayoutModel",
          "model_module_version": "1.2.0",
          "state": {
            "_model_module": "@jupyter-widgets/base",
            "_model_module_version": "1.2.0",
            "_model_name": "LayoutModel",
            "_view_count": null,
            "_view_module": "@jupyter-widgets/base",
            "_view_module_version": "1.2.0",
            "_view_name": "LayoutView",
            "align_content": null,
            "align_items": null,
            "align_self": null,
            "border": null,
            "bottom": null,
            "display": null,
            "flex": null,
            "flex_flow": null,
            "grid_area": null,
            "grid_auto_columns": null,
            "grid_auto_flow": null,
            "grid_auto_rows": null,
            "grid_column": null,
            "grid_gap": null,
            "grid_row": null,
            "grid_template_areas": null,
            "grid_template_columns": null,
            "grid_template_rows": null,
            "height": null,
            "justify_content": null,
            "justify_items": null,
            "left": null,
            "margin": null,
            "max_height": null,
            "max_width": null,
            "min_height": null,
            "min_width": null,
            "object_fit": null,
            "object_position": null,
            "order": null,
            "overflow": null,
            "overflow_x": null,
            "overflow_y": null,
            "padding": null,
            "right": null,
            "top": null,
            "visibility": null,
            "width": null
          }
        },
        "a17c95b979314931ab5e2d47c9d27aad": {
          "model_module": "@jupyter-widgets/controls",
          "model_name": "ButtonStyleModel",
          "model_module_version": "1.5.0",
          "state": {
            "_model_module": "@jupyter-widgets/controls",
            "_model_module_version": "1.5.0",
            "_model_name": "ButtonStyleModel",
            "_view_count": null,
            "_view_module": "@jupyter-widgets/base",
            "_view_module_version": "1.2.0",
            "_view_name": "StyleView",
            "button_color": null,
            "font_weight": ""
          }
        }
      }
    }
  },
  "cells": [
    {
      "cell_type": "markdown",
      "metadata": {
        "id": "view-in-github",
        "colab_type": "text"
      },
      "source": [
        "<a href=\"https://colab.research.google.com/github/taegunYoun/AI-Powered-Automated-Blog/blob/main/AI_Powered_Automated_Blog.ipynb\" target=\"_parent\"><img src=\"https://colab.research.google.com/assets/colab-badge.svg\" alt=\"Open In Colab\"/></a>"
      ]
    },
    {
      "cell_type": "code",
      "source": [
        "import requests\n",
        "from bs4 import BeautifulSoup\n",
        "from datetime import datetime\n",
        "\n",
        "# 크롤링할 값을 변수로 설정\n",
        "query = \"OpenAI\"  # 검색어\n",
        "start_date = \"2025.02.01\"  # 시작 날짜\n",
        "end_date = \"2025.03.31\"  # 종료 날짜\n",
        "max_news = 20  # 최대 뉴스 개수\n",
        "news_per_page = 10  # 네이버 뉴스 검색 결과 한 페이지당 뉴스 개수\n",
        "\n",
        "# 뉴스 데이터 저장용 리스트\n",
        "data = []\n",
        "\n",
        "# 여러 페이지에서 크롤링하기\n",
        "for start in range(1, max_news, news_per_page):\n",
        "    # URL 생성 (페이지네이션 반영)\n",
        "    url = f\"https://search.naver.com/search.naver?where=news&query={query}&ds={start_date}&de={end_date}&sort=0&start={start}\"\n",
        "\n",
        "    # 요청 보내기\n",
        "    response = requests.get(url)\n",
        "    soup = BeautifulSoup(response.text, 'html.parser')\n",
        "\n",
        "    # 뉴스 리스트 추출\n",
        "    news_list = soup.select(\"ul.list_news > li.bx\")\n",
        "\n",
        "    # 뉴스 데이터 저장\n",
        "    for news in news_list:\n",
        "        # 기사 제목과 URL\n",
        "        title_tag = news.select_one(\"a.news_tit\")\n",
        "        if not title_tag:\n",
        "            continue  # 제목이 없으면 스킵\n",
        "        title = title_tag.get_text()\n",
        "        article_url = title_tag['href']\n",
        "\n",
        "        # 기사 요약 내용\n",
        "        summary_tag = news.select_one(\"a.api_txt_lines.dsc_txt_wrap\")\n",
        "        summary = summary_tag.get_text() if summary_tag else \"요약 없음\"\n",
        "\n",
        "        # 언론사 이름\n",
        "        press_tag = news.select_one(\"a.info.press\")\n",
        "        press_name = press_tag.get_text() if press_tag else \"언론사 없음\"\n",
        "\n",
        "        # 기사 날짜\n",
        "        date_tag = news.select(\"span.info\")\n",
        "        if date_tag:\n",
        "            relative_date = date_tag[0].get_text()\n",
        "            current_date = datetime.now().strftime(\"%Y.%m.%d\")\n",
        "            date = f\"{current_date} ({relative_date})\"\n",
        "        else:\n",
        "            date = \"날짜 정보 없음\"\n",
        "\n",
        "        # 데이터 저장\n",
        "        data.append({\n",
        "            'title': title,\n",
        "            'url': article_url,\n",
        "            'summary': summary,\n",
        "            'press': press_name,\n",
        "            'date': date\n",
        "        })\n",
        "\n",
        "    # 만약 설정한 max_news 개수 이상이면 종료\n",
        "    if len(data) >= max_news:\n",
        "        break\n",
        "\n",
        "# 결과 출력\n",
        "for item in data:\n",
        "    print(f\"제목: {item['title']}\")\n",
        "    print(f\"언론사: {item['press']}\")\n",
        "    print(f\"날짜: {item['date']}\")\n",
        "    print(f\"URL: {item['url']}\")\n",
        "    print(f\"요약: {item['summary']}\")\n",
        "    print(\"-\" * 400)\n"
      ],
      "metadata": {
        "id": "Y2OSsQxEtu3A"
      },
      "execution_count": 2,
      "outputs": []
    },
    {
      "cell_type": "code",
      "source": [
        "pip install selenium\n"
      ],
      "metadata": {
        "colab": {
          "base_uri": "https://localhost:8080/"
        },
        "id": "HG-kx1VQEe8B",
        "outputId": "dc801b2a-c6a9-4ff8-af97-bb82d9fbcbb6"
      },
      "execution_count": 4,
      "outputs": [
        {
          "output_type": "stream",
          "name": "stdout",
          "text": [
            "Collecting selenium\n",
            "  Downloading selenium-4.34.0-py3-none-any.whl.metadata (7.5 kB)\n",
            "Requirement already satisfied: urllib3~=2.4.0 in /usr/local/lib/python3.11/dist-packages (from urllib3[socks]~=2.4.0->selenium) (2.4.0)\n",
            "Collecting trio~=0.30.0 (from selenium)\n",
            "  Downloading trio-0.30.0-py3-none-any.whl.metadata (8.5 kB)\n",
            "Collecting trio-websocket~=0.12.2 (from selenium)\n",
            "  Downloading trio_websocket-0.12.2-py3-none-any.whl.metadata (5.1 kB)\n",
            "Requirement already satisfied: certifi>=2025.4.26 in /usr/local/lib/python3.11/dist-packages (from selenium) (2025.6.15)\n",
            "Requirement already satisfied: typing_extensions~=4.14.0 in /usr/local/lib/python3.11/dist-packages (from selenium) (4.14.0)\n",
            "Requirement already satisfied: websocket-client~=1.8.0 in /usr/local/lib/python3.11/dist-packages (from selenium) (1.8.0)\n",
            "Requirement already satisfied: attrs>=23.2.0 in /usr/local/lib/python3.11/dist-packages (from trio~=0.30.0->selenium) (25.3.0)\n",
            "Requirement already satisfied: sortedcontainers in /usr/local/lib/python3.11/dist-packages (from trio~=0.30.0->selenium) (2.4.0)\n",
            "Requirement already satisfied: idna in /usr/local/lib/python3.11/dist-packages (from trio~=0.30.0->selenium) (3.10)\n",
            "Collecting outcome (from trio~=0.30.0->selenium)\n",
            "  Downloading outcome-1.3.0.post0-py2.py3-none-any.whl.metadata (2.6 kB)\n",
            "Requirement already satisfied: sniffio>=1.3.0 in /usr/local/lib/python3.11/dist-packages (from trio~=0.30.0->selenium) (1.3.1)\n",
            "Collecting wsproto>=0.14 (from trio-websocket~=0.12.2->selenium)\n",
            "  Downloading wsproto-1.2.0-py3-none-any.whl.metadata (5.6 kB)\n",
            "Requirement already satisfied: pysocks!=1.5.7,<2.0,>=1.5.6 in /usr/local/lib/python3.11/dist-packages (from urllib3[socks]~=2.4.0->selenium) (1.7.1)\n",
            "Requirement already satisfied: h11<1,>=0.9.0 in /usr/local/lib/python3.11/dist-packages (from wsproto>=0.14->trio-websocket~=0.12.2->selenium) (0.16.0)\n",
            "Downloading selenium-4.34.0-py3-none-any.whl (9.4 MB)\n",
            "\u001b[2K   \u001b[90m━━━━━━━━━━━━━━━━━━━━━━━━━━━━━━━━━━━━━━━━\u001b[0m \u001b[32m9.4/9.4 MB\u001b[0m \u001b[31m83.1 MB/s\u001b[0m eta \u001b[36m0:00:00\u001b[0m\n",
            "\u001b[?25hDownloading trio-0.30.0-py3-none-any.whl (499 kB)\n",
            "\u001b[2K   \u001b[90m━━━━━━━━━━━━━━━━━━━━━━━━━━━━━━━━━━━━━━━━\u001b[0m \u001b[32m499.2/499.2 kB\u001b[0m \u001b[31m40.3 MB/s\u001b[0m eta \u001b[36m0:00:00\u001b[0m\n",
            "\u001b[?25hDownloading trio_websocket-0.12.2-py3-none-any.whl (21 kB)\n",
            "Downloading outcome-1.3.0.post0-py2.py3-none-any.whl (10 kB)\n",
            "Downloading wsproto-1.2.0-py3-none-any.whl (24 kB)\n",
            "Installing collected packages: wsproto, outcome, trio, trio-websocket, selenium\n",
            "Successfully installed outcome-1.3.0.post0 selenium-4.34.0 trio-0.30.0 trio-websocket-0.12.2 wsproto-1.2.0\n"
          ]
        }
      ]
    },
    {
      "cell_type": "code",
      "source": [
        "from selenium import webdriver\n",
        "from selenium.webdriver.chrome.options import Options\n",
        "from bs4 import BeautifulSoup\n",
        "import time\n",
        "\n",
        "options = Options()\n",
        "options.add_argument('--headless')  # 창 없이 실행\n",
        "options.add_argument('--disable-gpu')\n",
        "driver = webdriver.Chrome(options=options)\n",
        "\n",
        "query = \"OpenAI\"\n",
        "start_date = \"2025.02.01\"\n",
        "end_date = \"2025.03.31\"\n",
        "max_news = 20\n",
        "news_per_page = 10\n",
        "data = []\n",
        "\n",
        "for start in range(1, max_news, news_per_page):\n",
        "    url = f\"https://search.naver.com/search.naver?where=news&query={query}&ds={start_date}&de={end_date}&sort=0&start={start}\"\n",
        "    driver.get(url)\n",
        "    time.sleep(2)  # JS 렌더링 대기\n",
        "\n",
        "    soup = BeautifulSoup(driver.page_source, 'html.parser')\n",
        "    news_list = soup.select(\"ul.list_news > li.bx\")\n",
        "\n",
        "    for news in news_list:\n",
        "        title_tag = news.select_one(\"a.news_tit\")\n",
        "        if not title_tag:\n",
        "            continue\n",
        "        title = title_tag.get_text()\n",
        "        article_url = title_tag['href']\n",
        "        summary_tag = news.select_one(\"a.api_txt_lines.dsc_txt_wrap\")\n",
        "        summary = summary_tag.get_text() if summary_tag else \"요약 없음\"\n",
        "        press_tag = news.select_one(\"a.info.press\")\n",
        "        press_name = press_tag.get_text() if press_tag else \"언론사 없음\"\n",
        "        date_tag = news.select(\"span.info\")\n",
        "        date = date_tag[0].get_text() if date_tag else \"날짜 정보 없음\"\n",
        "\n",
        "        data.append({\n",
        "            'title': title,\n",
        "            'url': article_url,\n",
        "            'summary': summary,\n",
        "            'press': press_name,\n",
        "            'date': date\n",
        "        })\n",
        "\n",
        "    if len(data) >= max_news:\n",
        "        break\n",
        "\n",
        "driver.quit()\n",
        "\n",
        "# 결과 출력\n",
        "for item in data:\n",
        "    print(f\"제목: {item['title']}\")\n",
        "    print(f\"언론사: {item['press']}\")\n",
        "    print(f\"날짜: {item['date']}\")\n",
        "    print(f\"URL: {item['url']}\")\n",
        "    print(f\"요약: {item['summary']}\")\n",
        "    print(\"-\" * 400)\n"
      ],
      "metadata": {
        "id": "Hfaok5hNElsR",
        "outputId": "1a4e27ae-5a64-4a06-f71c-ca0aeeb3d5e4",
        "colab": {
          "base_uri": "https://localhost:8080/",
          "height": 410
        }
      },
      "execution_count": 1,
      "outputs": [
        {
          "output_type": "error",
          "ename": "ModuleNotFoundError",
          "evalue": "No module named 'selenium'",
          "traceback": [
            "\u001b[0;31m---------------------------------------------------------------------------\u001b[0m",
            "\u001b[0;31mModuleNotFoundError\u001b[0m                       Traceback (most recent call last)",
            "\u001b[0;32m/tmp/ipython-input-1-2447184673.py\u001b[0m in \u001b[0;36m<cell line: 0>\u001b[0;34m()\u001b[0m\n\u001b[0;32m----> 1\u001b[0;31m \u001b[0;32mfrom\u001b[0m \u001b[0mselenium\u001b[0m \u001b[0;32mimport\u001b[0m \u001b[0mwebdriver\u001b[0m\u001b[0;34m\u001b[0m\u001b[0;34m\u001b[0m\u001b[0m\n\u001b[0m\u001b[1;32m      2\u001b[0m \u001b[0;32mfrom\u001b[0m \u001b[0mselenium\u001b[0m\u001b[0;34m.\u001b[0m\u001b[0mwebdriver\u001b[0m\u001b[0;34m.\u001b[0m\u001b[0mchrome\u001b[0m\u001b[0;34m.\u001b[0m\u001b[0moptions\u001b[0m \u001b[0;32mimport\u001b[0m \u001b[0mOptions\u001b[0m\u001b[0;34m\u001b[0m\u001b[0;34m\u001b[0m\u001b[0m\n\u001b[1;32m      3\u001b[0m \u001b[0;32mfrom\u001b[0m \u001b[0mbs4\u001b[0m \u001b[0;32mimport\u001b[0m \u001b[0mBeautifulSoup\u001b[0m\u001b[0;34m\u001b[0m\u001b[0;34m\u001b[0m\u001b[0m\n\u001b[1;32m      4\u001b[0m \u001b[0;32mimport\u001b[0m \u001b[0mtime\u001b[0m\u001b[0;34m\u001b[0m\u001b[0;34m\u001b[0m\u001b[0m\n\u001b[1;32m      5\u001b[0m \u001b[0;34m\u001b[0m\u001b[0m\n",
            "\u001b[0;31mModuleNotFoundError\u001b[0m: No module named 'selenium'",
            "",
            "\u001b[0;31m---------------------------------------------------------------------------\u001b[0;32m\nNOTE: If your import is failing due to a missing package, you can\nmanually install dependencies using either !pip or !apt.\n\nTo view examples of installing some common dependencies, click the\n\"Open Examples\" button below.\n\u001b[0;31m---------------------------------------------------------------------------\u001b[0m\n"
          ],
          "errorDetails": {
            "actions": [
              {
                "action": "open_url",
                "actionText": "Open Examples",
                "url": "/notebooks/snippets/importing_libraries.ipynb"
              }
            ]
          }
        }
      ]
    },
    {
      "cell_type": "code",
      "source": [
        "\n",
        "import random\n",
        "\n",
        "# 기사 목록 출력\n",
        "print(\"기사 목록:\")\n",
        "for idx, article in enumerate(data):\n",
        "    print(f\"{idx + 1}: {article['title']}\")\n",
        "\n",
        "# 사용자 입력으로 기사 선택\n",
        "if len(data) >= 2:\n",
        "    try:\n",
        "        selected_indices = input(\"=====선택할 기사 번호 두 개를 입력하세요 (예: 1 3): \").split()\n",
        "        selected_indices = [int(i) - 1 for i in selected_indices]\n",
        "\n",
        "        if len(selected_indices) != 2 or any(i < 0 or i >= len(data) for i in selected_indices):\n",
        "            raise ValueError(\"잘못된 입력입니다. 올바른 기사 번호 두 개를 입력하세요.\")\n",
        "\n",
        "        selected_articles = [data[selected_indices[0]], data[selected_indices[1]]]\n",
        "        print(\"---\"*50)\n",
        "        print(\"선택된 기사 제목:\")\n",
        "        print(\"1:\", selected_articles[0]['title'])\n",
        "        print(\"2:\", selected_articles[1]['title'])\n",
        "    except ValueError as e:\n",
        "        print(f\"입력 오류: {e}\")\n",
        "else:\n",
        "    print(\"기사가 충분하지 않습니다.\")"
      ],
      "metadata": {
        "colab": {
          "base_uri": "https://localhost:8080/"
        },
        "id": "zuZ3mEWu9YGG",
        "outputId": "16bd93ea-fbaa-47f5-9ae9-22a6258d718d"
      },
      "execution_count": null,
      "outputs": [
        {
          "output_type": "stream",
          "name": "stdout",
          "text": [
            "기사 목록:\n",
            "기사가 충분하지 않습니다.\n"
          ]
        }
      ]
    },
    {
      "cell_type": "code",
      "source": [
        "import random\n",
        "\n",
        "# 기사 2개 랜덤 선별\n",
        "if len(data) >= 2:\n",
        "    selected_articles = random.sample(data, 2)\n",
        "    print(\"선택된 기사 제목:\")\n",
        "    print(\"1:\", selected_articles[0]['title'])\n",
        "    print(\"2:\", selected_articles[1]['title'])\n",
        "else:\n",
        "    print(\"기사가 충분하지 않습니다.\")\n"
      ],
      "metadata": {
        "colab": {
          "base_uri": "https://localhost:8080/"
        },
        "id": "NPMynE3kOmsY",
        "outputId": "5a8a101f-ff72-46d7-b01c-f5e174497dd6"
      },
      "execution_count": null,
      "outputs": [
        {
          "output_type": "stream",
          "name": "stdout",
          "text": [
            "선택된 기사 제목:\n",
            "1: 인공지능 기술주 '랠리' 올해도 지속 전망, AI 사업 '돈 버는 시대' 다가... \n",
            "2: 폴라리스오피스 주가 기세등등... 테슬라 \"그록3 곧 테슬라 차량에 탑... \n"
          ]
        }
      ]
    },
    {
      "cell_type": "code",
      "source": [
        "import os\n",
        "from getpass import getpass\n",
        "\n",
        "# 사용자에게 API 키를 입력받아 환경변수에 저장\n",
        "os.environ['OPENAI_API_KEY'] = getpass('Enter your OpenAI API key: ')"
      ],
      "metadata": {
        "colab": {
          "base_uri": "https://localhost:8080/"
        },
        "id": "VOWPhNiqVLeO",
        "outputId": "48df71dd-b606-4786-ef81-e0db175e22cc"
      },
      "execution_count": null,
      "outputs": [
        {
          "name": "stdout",
          "output_type": "stream",
          "text": [
            "Enter your OpenAI API key: ··········\n"
          ]
        }
      ]
    },
    {
      "cell_type": "code",
      "source": [
        "from openai import OpenAI\n",
        "\n",
        "client = OpenAI(api_key=os.getenv('OPENAI_API_KEY'))\n",
        "\n",
        "prompt = f\"\"\"\n",
        "아래의 두 기사를 바탕으로 '제목, 서론, 본론, 결론'의 형식을 갖춘 하나의 자연스러운 뉴스 기사로 작성해주세요. 서론:, 본론:, 결론: 이라고 적지말고 그냥 한 개의 글로 적어주세요.\n",
        "제목도 최적화 검색 엔진을 통해 사람들이 많이 클릭할 수 있도록 해줘.\n",
        "각 구성 요소는 명확히 구분하고, 줄바꿈을 통해 가독성을 높여주세요.\n",
        "또한 실제 기사처럼 글자수를 1000자~2000자 사이로 맞추고 내용을 풍부하게 적어주세요.\n",
        "마지막으로, 이 기사를 읽고 느낀 것을 다양한 관점에서 적어주세요.\n",
        "\n",
        "기사 1:\n",
        "{selected_articles[0]['summary']}\n",
        "\n",
        "기사 2:\n",
        "{selected_articles[1]['summary']}\n",
        "\n",
        "새로 작성된 기사:\n",
        "\"\"\"\n",
        "\n",
        "\n",
        "response = client.chat.completions.create(\n",
        "    model=\"gpt-3.5-turbo\",\n",
        "    messages=[{\"role\": \"user\", \"content\": prompt}],\n",
        "    max_tokens=2500,\n",
        "    temperature=0.7\n",
        ")\n",
        "\n",
        "revised_article = response.choices[0].message.content.strip()\n",
        "print(\"[재편집된 기사]\")\n",
        "print(revised_article)\n"
      ],
      "metadata": {
        "colab": {
          "base_uri": "https://localhost:8080/"
        },
        "id": "wobCz0BPnxGg",
        "outputId": "0b7a09ed-f117-450e-e978-aace990af609"
      },
      "execution_count": null,
      "outputs": [
        {
          "output_type": "stream",
          "name": "stdout",
          "text": [
            "[재편집된 기사]\n",
            "리버풀, 토너먼트 일정에서 PSG와 인터밀란과 맞붙어\n",
            "\n",
            "리그 페이즈에서 워낙 좋은 성적을 거뒀기 때문에 수월한 토너먼트 일정을 기대했던 리버풀은 PSG와 인터밀란과의 맞대결을 맞이하게 되었다.\n",
            "\n",
            "리그앙에는 PSG가 있다. PSG는 리그 22경기를 치르면서 단 1경기도 지지 않았다. 17승 5무로 승점 56점을 쌓아 강력한 팀력을 보여주고 있다. 이에 리버풀은 높은 경기력을 발휘해야 할 것으로 보인다.\n",
            "\n",
            "16강에서는 이탈리아의 강호, 인터밀란과 맞붙게 되었다. 인터밀란은 챔피언스리그 결승전까지 진출한 경험이 있으며, 강력한 수비와 빠른 역습이 특징이다. 현재 세리에A에서도 1위를 달리고 있는 팀으로, 페예노르트가 어려움을 겪을 수밖에 없는 상황이다.\n",
            "\n",
            "리버풀은 PSG와 인터밀란과의 경기에서 뛰어난 전략과 팀워크를 펼쳐야 할 것으로 보인다. 어려운 상황 속에서도 최선을 다해 전력을 다해야 할 시기가 도래했다.결론:\n",
            "\n",
            "이 기사를 읽고 느낀 점:\n",
            "리버풀은 성적이 좋았지만, 강적인 PSG와 인터밀란과의 경기에서는 높은 경기력을 요구받을 것으로 보인다. 팀의 전략과 팀워크가 중요해 보이는데, 어려운 상황에서도 최선을 다해야 할 필요성을 느꼈다. 특히 인터밀란은 강력한 수비와 빠른 역습이 특징이므로, 리버풀은 대비책을 세워야 할 것으로 보인다. 전략적인 접근이 필요한 상황에서 팀의 결속력이 시험을 받을 것으로 보여 조망이 필요하다.\n"
          ]
        }
      ]
    },
    {
      "cell_type": "code",
      "source": [
        "!pip install requests PyJWT"
      ],
      "metadata": {
        "colab": {
          "base_uri": "https://localhost:8080/"
        },
        "id": "h2lqpinBB3ND",
        "outputId": "0b8070f2-a762-4aed-91d0-384f935ed253",
        "collapsed": true
      },
      "execution_count": null,
      "outputs": [
        {
          "output_type": "stream",
          "name": "stdout",
          "text": [
            "Requirement already satisfied: requests in /usr/local/lib/python3.11/dist-packages (2.32.3)\n",
            "Requirement already satisfied: PyJWT in /usr/local/lib/python3.11/dist-packages (2.10.1)\n",
            "Requirement already satisfied: charset-normalizer<4,>=2 in /usr/local/lib/python3.11/dist-packages (from requests) (3.4.1)\n",
            "Requirement already satisfied: idna<4,>=2.5 in /usr/local/lib/python3.11/dist-packages (from requests) (3.10)\n",
            "Requirement already satisfied: urllib3<3,>=1.21.1 in /usr/local/lib/python3.11/dist-packages (from requests) (2.3.0)\n",
            "Requirement already satisfied: certifi>=2017.4.17 in /usr/local/lib/python3.11/dist-packages (from requests) (2025.1.31)\n"
          ]
        }
      ]
    },
    {
      "cell_type": "code",
      "source": [
        "!pip install PyJWT requests"
      ],
      "metadata": {
        "colab": {
          "base_uri": "https://localhost:8080/"
        },
        "id": "NLJvxY6Tpok6",
        "outputId": "bfeb503f-4f1b-4e00-9f07-21d89855f606",
        "collapsed": true
      },
      "execution_count": null,
      "outputs": [
        {
          "output_type": "stream",
          "name": "stdout",
          "text": [
            "Requirement already satisfied: PyJWT in /usr/local/lib/python3.11/dist-packages (2.10.1)\n",
            "Requirement already satisfied: requests in /usr/local/lib/python3.11/dist-packages (2.32.3)\n",
            "Requirement already satisfied: charset-normalizer<4,>=2 in /usr/local/lib/python3.11/dist-packages (from requests) (3.4.1)\n",
            "Requirement already satisfied: idna<4,>=2.5 in /usr/local/lib/python3.11/dist-packages (from requests) (3.10)\n",
            "Requirement already satisfied: urllib3<3,>=1.21.1 in /usr/local/lib/python3.11/dist-packages (from requests) (2.3.0)\n",
            "Requirement already satisfied: certifi>=2017.4.17 in /usr/local/lib/python3.11/dist-packages (from requests) (2025.1.31)\n"
          ]
        }
      ]
    },
    {
      "cell_type": "code",
      "source": [
        "# main prompt\n",
        "import os\n",
        "from openai import OpenAI\n",
        "import ipywidgets as widgets\n",
        "from IPython.display import display\n",
        "\n",
        "client = OpenAI(api_key=os.getenv('OPENAI_API_KEY'))\n",
        "\n",
        "# 프롬프트 설정\n",
        "prompt = f\"\"\"\n",
        "아래의 두 기사의 내용을 모두 담아서, '제목, 서론, 본론, 결론'의 형식을 갖춘 하나의 자연스러운 뉴스 기사를 작성해주세요.\n",
        "\n",
        "아래 사항을 반드시 지켜주세요:\n",
        "\n",
        "1. 반드시 기사의 맨 첫 줄에 [] 안에 매력적이고 클릭하고 싶어질 만한 제목을 작성해주세요.\n",
        "2. 제목과 본문 내용을 검색 엔진 최적화(SEO)를 고려해서 작성해주세요.\n",
        "3. 서론, 본론, 결론이라고 명시하지 말고, 자연스럽게 누군가와 대화하는 듯한 느낌으로 글을 작성해주세요. 모르는 사람에게 알려주듯이 친근하게 말하는 방법도 좋습니다.\n",
        "4. 각 구성 요소는 줄바꿈을 통해 명확히 구분하여 가독성을 높여주세요.\n",
        "5. 실제로 누군가와 대화하는 것처럼 글자 수를 1200자~1600자 사이로 맞춰 풍부한 내용을 담아주세요.\n",
        "6. 대화를 통해 누군가에게 설명해주듯이 말하면서 중간중간 자문자답 형식 1~2번 포함되면 정말 좋을 거 같아요. (필수로 질문 문장에서는 꼭 줄바꿈을 해줘.)\n",
        "7. 2개의 기사 내용이 골고루 들어가하고 기사의 내용에 기반하여 사실만 전달해주세요.\n",
        "\n",
        "기사 1:\n",
        "{selected_articles[0]['summary']}\n",
        "\n",
        "기사 2:\n",
        "{selected_articles[1]['summary']}\n",
        "\n",
        "새로 작성된 기사:\n",
        "\"\"\"\n",
        "\n",
        "# GPT-4o를 사용하여 기사 생성\n",
        "response = client.chat.completions.create(\n",
        "    model=\"gpt-4o\",\n",
        "    messages=[{\"role\": \"user\", \"content\": prompt}],\n",
        "    max_tokens=3000,\n",
        "    temperature=0.7\n",
        ")\n",
        "\n",
        "# 기사 초안 저장\n",
        "revised_article = response.choices[0].message.content.strip()\n",
        "\n",
        "# Colab에서 직접 수정할 수 있는 입력창 생성\n",
        "text_area = widgets.Textarea(\n",
        "    value=revised_article,\n",
        "    placeholder=\"여기에 기사를 수정하세요...\",\n",
        "    layout=widgets.Layout(width=\"100%\", height=\"400px\")\n",
        ")\n",
        "\n",
        "# \"확정\" 버튼 추가\n",
        "confirm_button = widgets.Button(description=\"✅ 기사 확정\")\n",
        "\n",
        "# 확정된 기사를 저장할 변수\n",
        "final_article = \"\"\n",
        "\n",
        "# 버튼 클릭 이벤트 핸들러\n",
        "def on_confirm_clicked(b):\n",
        "    global final_article\n",
        "    final_article = text_area.value\n",
        "    print(\"\\n✅ 최종 확정된 기사:\\n\")\n",
        "    print(final_article)\n",
        "\n",
        "confirm_button.on_click(on_confirm_clicked)\n",
        "\n",
        "# UI 표시\n",
        "display(text_area, confirm_button)\n"
      ],
      "metadata": {
        "colab": {
          "base_uri": "https://localhost:8080/",
          "height": 1000,
          "referenced_widgets": [
            "bedd42b334d94c55992dc1164cccad01",
            "7e83c0125dc84d1bbdee9ce9198eba91",
            "4c43cf0255d546ab90fd308ce67a48f2",
            "39f60383e07446cb9f833742bb481e99",
            "e8dfd69ee2f14639866b42683718146e",
            "a17c95b979314931ab5e2d47c9d27aad"
          ]
        },
        "id": "YEoFvPL2eOZB",
        "outputId": "0a74397f-8682-4790-af9c-685c472a0a09"
      },
      "execution_count": null,
      "outputs": [
        {
          "output_type": "display_data",
          "data": {
            "text/plain": [
              "Textarea(value=\"[AI 혁신, 스마트폰과 교통 시스템에 불러온 변화]\\n\\n최근 IT 업계에서는 인공지능(AI)의 혁신이 눈에 띄게 진행되고 있어요. 특히, 삼성의 갤럭시 S 시리즈에 …"
            ],
            "application/vnd.jupyter.widget-view+json": {
              "version_major": 2,
              "version_minor": 0,
              "model_id": "bedd42b334d94c55992dc1164cccad01"
            }
          },
          "metadata": {}
        },
        {
          "output_type": "display_data",
          "data": {
            "text/plain": [
              "Button(description='✅ 기사 확정', style=ButtonStyle())"
            ],
            "application/vnd.jupyter.widget-view+json": {
              "version_major": 2,
              "version_minor": 0,
              "model_id": "39f60383e07446cb9f833742bb481e99"
            }
          },
          "metadata": {}
        },
        {
          "output_type": "stream",
          "name": "stdout",
          "text": [
            "\n",
            "✅ 최종 확정된 기사:\n",
            "\n",
            "[AI 혁신, 스마트폰과 교통 시스템에 불러온 변화]\n",
            "\n",
            "최근 IT 업계에서는 인공지능(AI)의 혁신이 눈에 띄게 진행되고 있어요. 특히, 삼성의 갤럭시 S 시리즈에 오픈 AI의 챗GPT가 탑재될 가능성이 높아 주목받고 있죠. 이와 함께 애플도 인공지능 모델인 애플 인텔리전스와 음성 비서 시리(Siri)를 iOS 18.4 베타 버전에 통합하며 AI 기술을 향한 발걸음을 이어가고 있습니다. 그렇다면, AI가 우리 일상에 어떤 변화를 가져올까요?\n",
            "\n",
            "먼저, 삼성 갤럭시 S 시리즈에 챗GPT가 탑재된다면 어떤 변화가 있을까요? 이 기술은 사용자와의 상호작용을 더욱 자연스럽게 만들어 줄 것으로 기대됩니다. 사용자가 질문을 던지면, 챗GPT는 그 질문에 대한 맥락을 이해하고 적절한 답변을 제공할 수 있게 될 것입니다. 예를 들어, '오늘 날씨 어때?'라고 물으면, 단순한 날씨 정보뿐만 아니라, 사용자의 일정을 고려한 추천까지 가능하게 될지도 모릅니다.\n",
            "\n",
            "그런데 AI 응답의 신뢰도는 어떨까요? 최근 SRT와 관련하여 AI의 응답 신뢰도를 분석한 결과, 챗GPT를 포함한 국내외 AI 도구에 질문을 던졌을 때 20건 중 17건이나 잘못된 답변을 제공했다고 해요. AI가 아직 완벽하지 않다는 것을 보여주는 사례죠. 예를 들어, SRT 열차 내에서 컵라면을 먹기 위해 승무원에게 요청해야 한다는 잘못된 답변도 있었어요. 그럼에도 불구하고, AI 기술의 발전은 멈추지 않을 것입니다.\n",
            "\n",
            "애플도 이 흐름에 따라 음성 비서 시리의 기능을 더욱 강화하고 있습니다. 시리가 애플 인텔리전스와 결합되면, 사용자 경험이 더욱 개인화될 것입니다. 이는 단순한 정보 전달을 넘어, 사용자의 일상 속에서 더 유용하게 활용될 수 있도록 돕는 것이죠.\n",
            "\n",
            "결국, AI의 도입과 발전은 우리의 삶에 긍정적인 영향을 미칠 가능성이 큽니다. 물론, 현재로서는 AI가 완벽하지 않다는 점을 인식하고, 이를 보완해 나가야 할 필요가 있습니다. 앞으로 AI가 가져올 다양한 변화와 혁신을 기대하며, 기술과 인간의 조화로운 공존을 모색해 나가야 할 것입니다. AI는 단순한 도구가 아닌, 우리의 삶을 더욱 풍요롭게 만들어 줄 동반자가 될 것입니다. 그렇지 않을까요?\n",
            "dsfafasf\n",
            "\n",
            "✅ 최종 확정된 기사:\n",
            "\n",
            "[AI 혁신, 스마트폰과 교통 시스템에 불러온 변화]\n",
            "\n",
            "최근 IT 업계에서는 인공지능(AI)의 혁신이 눈에 띄게 진행되고 있어요. 특히, 삼성의 갤럭시 S 시리즈에 오픈 AI의 챗GPT가 탑재될 가능성이 높아 주목받고 있죠. 이와 함께 애플도 인공지능 모델인 애플 인텔리전스와 음성 비서 시리(Siri)를 iOS 18.4 베타 버전에 통합하며 AI 기술을 향한 발걸음을 이어가고 있습니다. 그렇다면, AI가 우리 일상에 어떤 변화를 가져올까요?\n",
            "\n",
            "먼저, 삼성 갤럭시 S 시리즈에 챗GPT가 탑재된다면 어떤 변화가 있을까요? 이 기술은 사용자와의 상호작용을 더욱 자연스럽게 만들어 줄 것으로 기대됩니다. 사용자가 질문을 던지면, 챗GPT는 그 질문에 대한 맥락을 이해하고 적절한 답변을 제공할 수 있게 될 것입니다. 예를 들어, '오늘 날씨 어때?'라고 물으면, 단순한 날씨 정보뿐만 아니라, 사용자의 일정을 고려한 추천까지 가능하게 될지도 모릅니다.\n",
            "\n",
            "그런데 AI 응답의 신뢰도는 어떨까요? 최근 SRT와 관련하여 AI의 응답 신뢰도를 분석한 결과, 챗GPT를 포함한 국내외 AI 도구에 질문을 던졌을 때 20건 중 17건이나 잘못된 답변을 제공했다고 해요. AI가 아직 완벽하지 않다는 것을 보여주는 사례죠. 예를 들어, SRT 열차 내에서 컵라면을 먹기 위해 승무원에게 요청해야 한다는 잘못된 답변도 있었어요. 그럼에도 불구하고, AI 기술의 발전은 멈추지 않을 것입니다.\n",
            "\n",
            "애플도 이 흐름에 따라 음성 비서 시리의 기능을 더욱 강화하고 있습니다. 시리가 애플 인텔리전스와 결합되면, 사용자 경험이 더욱 개인화될 것입니다. 이는 단순한 정보 전달을 넘어, 사용자의 일상 속에서 더 유용하게 활용될 수 있도록 돕는 것이죠.\n",
            "\n",
            "결국, AI의 도입과 발전은 우리의 삶에 긍정적인 영향을 미칠 가능성이 큽니다. 물론, 현재로서는 AI가 완벽하지 않다는 점을 인식하고, 이를 보완해 나가야 할 필요가 있습니다. 앞으로 AI가 가져올 다양한 변화와 혁신을 기대하며, 기술과 인간의 조화로운 공존을 모색해 나가야 할 것입니다. AI는 단순한 도구가 아닌, 우리의 삶을 더욱 풍요롭게 만들어 줄 동반자가 될 것입니다.\n"
          ]
        }
      ]
    },
    {
      "cell_type": "markdown",
      "source": [
        "# 새 섹션"
      ],
      "metadata": {
        "id": "5uDs0a0CDCKf"
      }
    },
    {
      "cell_type": "code",
      "source": [
        " import os\n",
        "import requests\n",
        "from getpass import getpass\n",
        "from openai import OpenAI\n",
        "\n",
        "# 🔐 사용자에게 OpenAI API Key 입력받고 환경변수로 저장\n",
        "os.environ['OPENAI_API_KEY'] = getpass('🔑 Enter your OpenAI API key: ')\n",
        "openai_api_key = os.getenv(\"OPENAI_API_KEY\")\n",
        "\n",
        "# 👻 Ghost 관련 키는 입력으로 받음\n",
        "ghost_admin_api_url = input(\"🌐 Ghost Admin API URL (예: https://yourblog.com/ghost/api/admin): \").strip()\n",
        "ghost_admin_api_key = input(\"🧙 Ghost Admin API Key: \").strip()\n",
        "\n",
        "# OpenAI 클라이언트 생성\n",
        "client = OpenAI(api_key=openai_api_key)\n",
        "\n",
        "# 1. GPT로 기사 + 지브리 이미지 프롬프트 생성\n",
        "def generate_article_and_prompt(article1, article2):\n",
        "    prompt = f\"\"\"\n",
        "    아래 두 기사의 내용을 바탕으로, 자연스럽고 풍부한 뉴스 기사를 작성해주세요.\n",
        "    또한 기사에 어울리는 지브리 스타일의 이미지 생성을 위한 프롬프트도 함께 제시해주세요.\n",
        "\n",
        "    기사 1:\n",
        "    {article1}\n",
        "\n",
        "    기사 2:\n",
        "    {article2}\n",
        "\n",
        "    출력 예시:\n",
        "    ---\n",
        "    [지브리 스타일 뉴스 제목]\n",
        "    기사 본문...\n",
        "\n",
        "    이미지 프롬프트:\n",
        "    A peaceful countryside scene at sunrise in Studio Ghibli style, warm tones, animated feel\n",
        "    \"\"\"\n",
        "    response = client.chat.completions.create(\n",
        "        model=\"gpt-4o\",\n",
        "        messages=[{\"role\": \"user\", \"content\": prompt}],\n",
        "        max_tokens=2500,\n",
        "        temperature=0.7\n",
        "    )\n",
        "    return response.choices[0].message.content\n",
        "\n",
        "# 2. DALL·E로 이미지 생성\n",
        "def generate_image_url(image_prompt):\n",
        "    image_response = client.images.generate(\n",
        "        model=\"dall-e-3\",\n",
        "        prompt=image_prompt,\n",
        "        size=\"1024x1024\",\n",
        "        n=1\n",
        "    )\n",
        "    return image_response.data[0].url\n",
        "\n",
        "# 3. Ghost에 이미지 업로드\n",
        "def upload_image_to_ghost(image_url):\n",
        "    image_data = requests.get(image_url).content\n",
        "    headers = {\n",
        "        'Authorization': f'Ghost {ghost_admin_api_key}'\n",
        "    }\n",
        "    files = {'file': ('ghibli.jpg', image_data, 'image/jpeg')}\n",
        "    response = requests.post(\n",
        "        f\"{ghost_admin_api_url}/images/upload/\",\n",
        "        headers=headers,\n",
        "        files=files\n",
        "    )\n",
        "    response.raise_for_status()\n",
        "    return response.json()['url']\n",
        "\n",
        "# 4. Ghost에 포스트 업로드\n",
        "def post_to_ghost(title, html_content, image_url):\n",
        "    headers = {\n",
        "        'Authorization': f'Ghost {ghost_admin_api_key}',\n",
        "        'Content-Type': 'application/json'\n",
        "    }\n",
        "    post_data = {\n",
        "        \"posts\": [{\n",
        "            \"title\": title,\n",
        "            \"html\": html_content,\n",
        "            \"feature_image\": image_url,\n",
        "            \"status\": \"published\"\n",
        "        }]\n",
        "    }\n",
        "    response = requests.post(\n",
        "        f\"{ghost_admin_api_url}/posts/?source=html\",\n",
        "        headers=headers,\n",
        "        json=post_data\n",
        "    )\n",
        "    response.raise_for_status()\n",
        "    return response.json()\n",
        "\n",
        "# 5. 실행 함수\n",
        "def main():\n",
        "    article1 = input(\"🗞️ 기사 1 요약을 입력하세요:\\n\")\n",
        "    article2 = input(\"🗞️ 기사 2 요약을 입력하세요:\\n\")\n",
        "\n",
        "    print(\"📰 GPT로 기사 생성 중...\")\n",
        "    full_output = generate_article_and_prompt(article1, article2)\n",
        "\n",
        "    if \"이미지 프롬프트:\" in full_output:\n",
        "        content, image_prompt = full_output.strip().split(\"이미지 프롬프트:\")\n",
        "    else:\n",
        "        raise ValueError(\"이미지 프롬프트를 추출할 수 없습니다.\")\n",
        "\n",
        "    title_line = content.strip().split(\"\\n\")[0]\n",
        "    title = title_line.strip(\"[]\")\n",
        "\n",
        "    print(\"🎨 이미지 생성 중...\")\n",
        "    image_url = generate_image_url(image_prompt.strip())\n",
        "\n",
        "    print(\"⬆️ Ghost에 이미지 업로드 중...\")\n",
        "    ghost_image_url = upload_image_to_ghost(image_url)\n",
        "\n",
        "    print(\"📝 포스트 업로드 중...\")\n",
        "    result = post_to_ghost(title, content.strip(), ghost_image_url)\n",
        "\n",
        "    print(\"✅ 업로드 완료:\", result[\"posts\"][0][\"url\"])\n",
        "\n",
        "if __name__ == \"__main__\":\n",
        "    main()\n"
      ],
      "metadata": {
        "id": "GS-2YSdZD1ve"
      },
      "execution_count": null,
      "outputs": []
    },
    {
      "cell_type": "code",
      "source": [
        "#Posting Code\n",
        "import jwt\n",
        "import requests\n",
        "import datetime\n",
        "import json\n",
        "\n",
        "# 네 Ghost 블로그 정보\n",
        "admin_api_key = '67aef8b28f249f00015b6167:581583e8c8c1ecda1edc60f35017f171ca640b46492a701e6e60f3f72445d277'  # 네 API 키\n",
        "api_url = 'https://scrollaix.ghost.io/ghost/api/admin/posts/'  # 네 블로그 URL\n",
        "\n",
        "# JWT 생성\n",
        "id, secret = admin_api_key.split(':')\n",
        "iat = int(datetime.datetime.now().timestamp())\n",
        "\n",
        "header = {'alg': 'HS256', 'typ': 'JWT', 'kid': id}\n",
        "payload = {\n",
        "    'iat': iat,\n",
        "    'exp': iat + 5 * 60,\n",
        "    'aud': '/ghost/api/admin/'\n",
        "}\n",
        "\n",
        "token = jwt.encode(payload, bytes.fromhex(secret), algorithm='HS256', headers=header)\n",
        "\n",
        "# 제목과 본문 분리\n",
        "title, content = final_article.split('\\n', 1)\n",
        "title = title.replace('[제목]: ', '').strip()\n",
        "content = content.strip()\n",
        "\n",
        "# 포스팅 데이터\n",
        "headers = {\n",
        "    'Authorization': f'Ghost {token}',\n",
        "    'Accept-Version': 'v5.109'\n",
        "}\n",
        "\n",
        "import json\n",
        "\n",
        "mobiledoc_content = {\n",
        "    \"version\": \"0.3.1\",\n",
        "    \"atoms\": [],\n",
        "    \"cards\": [],\n",
        "    \"markups\": [],\n",
        "    \"sections\": [[1, \"p\", [[0, [], 0, content]]]]  # ✅ 본문을 Mobiledoc 포맷으로 추가\n",
        "}\n",
        "\n",
        "post_data = {\n",
        "    'posts': [{\n",
        "        'title': title,\n",
        "        'mobiledoc': json.dumps(mobiledoc_content),  # ✅ Mobiledoc 포맷 적용\n",
        "        'status': 'published'\n",
        "    }]\n",
        "}\n",
        "\n",
        "\n",
        "# Ghost에 포스팅 요청\n",
        "response = requests.post(api_url, json=post_data, headers=headers)\n",
        "\n",
        "\n",
        "# 결과 확인\n",
        "if response.status_code == 201:\n",
        "    post_url = response.json()['posts'][0]['url']\n",
        "    print(f\"🎉포스팅 완료: {post_url}\")\n",
        "else:\n",
        "    print(f\"🚨포스팅 실패: {response.status_code}, {response.text}\")\n"
      ],
      "metadata": {
        "colab": {
          "base_uri": "https://localhost:8080/"
        },
        "id": "Zw_gvJ78rEKV",
        "outputId": "584a4d74-d8bb-4ebd-b943-b89d013f791a"
      },
      "execution_count": null,
      "outputs": [
        {
          "output_type": "stream",
          "name": "stdout",
          "text": [
            "🎉포스팅 완료: https://scrollaix.com/ai-hyeogsin-seumateupongwa-gyotong-siseuteme-bulreoon-byeonhwa-3/\n"
          ]
        }
      ]
    }
  ]
}