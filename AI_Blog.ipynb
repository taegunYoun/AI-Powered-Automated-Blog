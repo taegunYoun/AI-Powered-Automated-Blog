{
 "cells": [
  {
   "cell_type": "code",
   "execution_count": null,
   "id": "2b17687e",
   "metadata": {
    "vscode": {
     "languageId": "plaintext"
    }
   },
   "outputs": [],
   "source": [
    "import requests\n",
    "from bs4 import BeautifulSoup\n",
    "from datetime import datetime\n",
    "\n",
    "# 크롤링할 값을 변수로 설정\n",
    "query = \"OpenAI\"  # 검색어\n",
    "start_date = \"2025.02.01\"  # 시작 날짜\n",
    "end_date = \"2025.03.31\"  # 종료 날짜\n",
    "max_news = 20  # 최대 뉴스 개수\n",
    "news_per_page = 10  # 네이버 뉴스 검색 결과 한 페이지당 뉴스 개수\n",
    "\n",
    "# 뉴스 데이터 저장용 리스트\n",
    "data = []\n",
    "\n",
    "# 여러 페이지에서 크롤링하기\n",
    "for start in range(1, max_news, news_per_page):\n",
    "    # URL 생성 (페이지네이션 반영)\n",
    "    url = f\"https://search.naver.com/search.naver?where=news&query={query}&ds={start_date}&de={end_date}&sort=0&start={start}\"\n",
    "\n",
    "    # 요청 보내기\n",
    "    response = requests.get(url)\n",
    "    soup = BeautifulSoup(response.text, 'html.parser')\n",
    "\n",
    "    # 뉴스 리스트 추출\n",
    "    news_list = soup.select(\"ul.list_news > li.bx\")\n",
    "\n",
    "    # 뉴스 데이터 저장\n",
    "    for news in news_list:\n",
    "        # 기사 제목과 URL\n",
    "        title_tag = news.select_one(\"a.news_tit\")\n",
    "        if not title_tag:\n",
    "            continue  # 제목이 없으면 스킵\n",
    "        title = title_tag.get_text()\n",
    "        article_url = title_tag['href']\n",
    "\n",
    "        # 기사 요약 내용\n",
    "        summary_tag = news.select_one(\"a.api_txt_lines.dsc_txt_wrap\")\n",
    "        summary = summary_tag.get_text() if summary_tag else \"요약 없음\"\n",
    "\n",
    "        # 언론사 이름\n",
    "        press_tag = news.select_one(\"a.info.press\")\n",
    "        press_name = press_tag.get_text() if press_tag else \"언론사 없음\"\n",
    "\n",
    "        # 기사 날짜\n",
    "        date_tag = news.select(\"span.info\")\n",
    "        if date_tag:\n",
    "            relative_date = date_tag[0].get_text()\n",
    "            current_date = datetime.now().strftime(\"%Y.%m.%d\")\n",
    "            date = f\"{current_date} ({relative_date})\"\n",
    "        else:\n",
    "            date = \"날짜 정보 없음\"\n",
    "\n",
    "        # 데이터 저장\n",
    "        data.append({\n",
    "            'title': title,\n",
    "            'url': article_url,\n",
    "            'summary': summary,\n",
    "            'press': press_name,\n",
    "            'date': date\n",
    "        })\n",
    "\n",
    "    # 만약 설정한 max_news 개수 이상이면 종료\n",
    "    if len(data) >= max_news:\n",
    "        break\n",
    "\n",
    "# 결과 출력\n",
    "for item in data:\n",
    "    print(f\"제목: {item['title']}\")\n",
    "    print(f\"언론사: {item['press']}\")\n",
    "    print(f\"날짜: {item['date']}\")\n",
    "    print(f\"URL: {item['url']}\")\n",
    "    print(f\"요약: {item['summary']}\")\n",
    "    print(\"-\" * 400)\n"
   ]
  },
  {
   "cell_type": "code",
   "execution_count": null,
   "id": "0639a840",
   "metadata": {
    "vscode": {
     "languageId": "plaintext"
    }
   },
   "outputs": [],
   "source": [
    "pip install selenium"
   ]
  },
  {
   "cell_type": "code",
   "execution_count": null,
   "id": "e30114aa",
   "metadata": {
    "vscode": {
     "languageId": "plaintext"
    }
   },
   "outputs": [],
   "source": [
    "from selenium import webdriver\n",
    "from selenium.webdriver.chrome.options import Options\n",
    "from bs4 import BeautifulSoup\n",
    "import time\n",
    "\n",
    "options = Options()\n",
    "options.add_argument('--headless')  # 창 없이 실행\n",
    "options.add_argument('--disable-gpu')\n",
    "driver = webdriver.Chrome(options=options)\n",
    "\n",
    "query = \"OpenAI\"\n",
    "start_date = \"2025.02.01\"\n",
    "end_date = \"2025.03.31\"\n",
    "max_news = 20\n",
    "news_per_page = 10\n",
    "data = []\n",
    "\n",
    "for start in range(1, max_news, news_per_page):\n",
    "    url = f\"https://search.naver.com/search.naver?where=news&query={query}&ds={start_date}&de={end_date}&sort=0&start={start}\"\n",
    "    driver.get(url)\n",
    "    time.sleep(2)  # JS 렌더링 대기\n",
    "\n",
    "    soup = BeautifulSoup(driver.page_source, 'html.parser')\n",
    "    news_list = soup.select(\"ul.list_news > li.bx\")\n",
    "\n",
    "    for news in news_list:\n",
    "        title_tag = news.select_one(\"a.news_tit\")\n",
    "        if not title_tag:\n",
    "            continue\n",
    "        title = title_tag.get_text()\n",
    "        article_url = title_tag['href']\n",
    "        summary_tag = news.select_one(\"a.api_txt_lines.dsc_txt_wrap\")\n",
    "        summary = summary_tag.get_text() if summary_tag else \"요약 없음\"\n",
    "        press_tag = news.select_one(\"a.info.press\")\n",
    "        press_name = press_tag.get_text() if press_tag else \"언론사 없음\"\n",
    "        date_tag = news.select(\"span.info\")\n",
    "        date = date_tag[0].get_text() if date_tag else \"날짜 정보 없음\"\n",
    "\n",
    "        data.append({\n",
    "            'title': title,\n",
    "            'url': article_url,\n",
    "            'summary': summary,\n",
    "            'press': press_name,\n",
    "            'date': date\n",
    "        })\n",
    "\n",
    "    if len(data) >= max_news:\n",
    "        break\n",
    "\n",
    "driver.quit()\n",
    "\n",
    "# 결과 출력\n",
    "for item in data:\n",
    "    print(f\"제목: {item['title']}\")\n",
    "    print(f\"언론사: {item['press']}\")\n",
    "    print(f\"날짜: {item['date']}\")\n",
    "    print(f\"URL: {item['url']}\")\n",
    "    print(f\"요약: {item['summary']}\")\n",
    "    print(\"-\" * 400)\n"
   ]
  },
  {
   "cell_type": "code",
   "execution_count": null,
   "id": "063c6f47",
   "metadata": {
    "vscode": {
     "languageId": "plaintext"
    }
   },
   "outputs": [],
   "source": [
    "\n",
    "import random\n",
    "\n",
    "# 기사 목록 출력\n",
    "print(\"기사 목록:\")\n",
    "for idx, article in enumerate(data):\n",
    "    print(f\"{idx + 1}: {article['title']}\")\n",
    "\n",
    "# 사용자 입력으로 기사 선택\n",
    "if len(data) >= 2:\n",
    "    try:\n",
    "        selected_indices = input(\"=====선택할 기사 번호 두 개를 입력하세요 (예: 1 3): \").split()\n",
    "        selected_indices = [int(i) - 1 for i in selected_indices]\n",
    "\n",
    "        if len(selected_indices) != 2 or any(i < 0 or i >= len(data) for i in selected_indices):\n",
    "            raise ValueError(\"잘못된 입력입니다. 올바른 기사 번호 두 개를 입력하세요.\")\n",
    "\n",
    "        selected_articles = [data[selected_indices[0]], data[selected_indices[1]]]\n",
    "        print(\"---\"*50)\n",
    "        print(\"선택된 기사 제목:\")\n",
    "        print(\"1:\", selected_articles[0]['title'])\n",
    "        print(\"2:\", selected_articles[1]['title'])\n",
    "    except ValueError as e:\n",
    "        print(f\"입력 오류: {e}\")\n",
    "else:\n",
    "    print(\"기사가 충분하지 않습니다.\")"
   ]
  },
  {
   "cell_type": "code",
   "execution_count": null,
   "id": "1522d50c",
   "metadata": {
    "vscode": {
     "languageId": "plaintext"
    }
   },
   "outputs": [],
   "source": [
    "import random\n",
    "\n",
    "# 기사 2개 랜덤 선별\n",
    "if len(data) >= 2:\n",
    "    selected_articles = random.sample(data, 2)\n",
    "    print(\"선택된 기사 제목:\")\n",
    "    print(\"1:\", selected_articles[0]['title'])\n",
    "    print(\"2:\", selected_articles[1]['title'])\n",
    "else:\n",
    "    print(\"기사가 충분하지 않습니다.\")\n"
   ]
  },
  {
   "cell_type": "code",
   "execution_count": null,
   "id": "1b57fa97",
   "metadata": {
    "vscode": {
     "languageId": "plaintext"
    }
   },
   "outputs": [],
   "source": [
    "import os\n",
    "from getpass import getpass\n",
    "\n",
    "# 사용자에게 API 키를 입력받아 환경변수에 저장\n",
    "os.environ['OPENAI_API_KEY'] = getpass('Enter your OpenAI API key: ')"
   ]
  },
  {
   "cell_type": "code",
   "execution_count": null,
   "id": "076e2663",
   "metadata": {
    "vscode": {
     "languageId": "plaintext"
    }
   },
   "outputs": [],
   "source": [
    "from openai import OpenAI\n",
    "\n",
    "client = OpenAI(api_key=os.getenv('OPENAI_API_KEY'))\n",
    "\n",
    "prompt = f\"\"\"\n",
    "아래의 두 기사를 바탕으로 '제목, 서론, 본론, 결론'의 형식을 갖춘 하나의 자연스러운 뉴스 기사로 작성해주세요. 서론:, 본론:, 결론: 이라고 적지말고 그냥 한 개의 글로 적어주세요.\n",
    "제목도 최적화 검색 엔진을 통해 사람들이 많이 클릭할 수 있도록 해줘.\n",
    "각 구성 요소는 명확히 구분하고, 줄바꿈을 통해 가독성을 높여주세요.\n",
    "또한 실제 기사처럼 글자수를 1000자~2000자 사이로 맞추고 내용을 풍부하게 적어주세요.\n",
    "마지막으로, 이 기사를 읽고 느낀 것을 다양한 관점에서 적어주세요.\n",
    "\n",
    "기사 1:\n",
    "{selected_articles[0]['summary']}\n",
    "\n",
    "기사 2:\n",
    "{selected_articles[1]['summary']}\n",
    "\n",
    "새로 작성된 기사:\n",
    "\"\"\"\n",
    "\n",
    "\n",
    "response = client.chat.completions.create(\n",
    "    model=\"gpt-3.5-turbo\",\n",
    "    messages=[{\"role\": \"user\", \"content\": prompt}],\n",
    "    max_tokens=2500,\n",
    "    temperature=0.7\n",
    ")\n",
    "\n",
    "revised_article = response.choices[0].message.content.strip()\n",
    "print(\"[재편집된 기사]\")\n",
    "print(revised_article)\n"
   ]
  },
  {
   "cell_type": "code",
   "execution_count": null,
   "id": "b710b388",
   "metadata": {
    "vscode": {
     "languageId": "plaintext"
    }
   },
   "outputs": [],
   "source": [
    "!pip install requests PyJWT"
   ]
  },
  {
   "cell_type": "code",
   "execution_count": null,
   "id": "4d874599",
   "metadata": {
    "vscode": {
     "languageId": "plaintext"
    }
   },
   "outputs": [],
   "source": [
    "!pip install PyJWT requests"
   ]
  },
  {
   "cell_type": "code",
   "execution_count": null,
   "id": "d4588839",
   "metadata": {
    "vscode": {
     "languageId": "plaintext"
    }
   },
   "outputs": [],
   "source": [
    "# main prompt\n",
    "import os\n",
    "from openai import OpenAI\n",
    "import ipywidgets as widgets\n",
    "from IPython.display import display\n",
    "\n",
    "client = OpenAI(api_key=os.getenv('OPENAI_API_KEY'))\n",
    "\n",
    "# 프롬프트 설정\n",
    "prompt = f\"\"\"\n",
    "아래의 두 기사의 내용을 모두 담아서, '제목, 서론, 본론, 결론'의 형식을 갖춘 하나의 자연스러운 뉴스 기사를 작성해주세요.\n",
    "\n",
    "아래 사항을 반드시 지켜주세요:\n",
    "\n",
    "1. 반드시 기사의 맨 첫 줄에 [] 안에 매력적이고 클릭하고 싶어질 만한 제목을 작성해주세요.\n",
    "2. 제목과 본문 내용을 검색 엔진 최적화(SEO)를 고려해서 작성해주세요.\n",
    "3. 서론, 본론, 결론이라고 명시하지 말고, 자연스럽게 누군가와 대화하는 듯한 느낌으로 글을 작성해주세요. 모르는 사람에게 알려주듯이 친근하게 말하는 방법도 좋습니다.\n",
    "4. 각 구성 요소는 줄바꿈을 통해 명확히 구분하여 가독성을 높여주세요.\n",
    "5. 실제로 누군가와 대화하는 것처럼 글자 수를 1200자~1600자 사이로 맞춰 풍부한 내용을 담아주세요.\n",
    "6. 대화를 통해 누군가에게 설명해주듯이 말하면서 중간중간 자문자답 형식 1~2번 포함되면 정말 좋을 거 같아요. (필수로 질문 문장에서는 꼭 줄바꿈을 해줘.)\n",
    "7. 2개의 기사 내용이 골고루 들어가하고 기사의 내용에 기반하여 사실만 전달해주세요.\n",
    "\n",
    "기사 1:\n",
    "{selected_articles[0]['summary']}\n",
    "\n",
    "기사 2:\n",
    "{selected_articles[1]['summary']}\n",
    "\n",
    "새로 작성된 기사:\n",
    "\"\"\"\n",
    "\n",
    "# GPT-4o를 사용하여 기사 생성\n",
    "response = client.chat.completions.create(\n",
    "    model=\"gpt-4o\",\n",
    "    messages=[{\"role\": \"user\", \"content\": prompt}],\n",
    "    max_tokens=3000,\n",
    "    temperature=0.7\n",
    ")\n",
    "\n",
    "# 기사 초안 저장\n",
    "revised_article = response.choices[0].message.content.strip()\n",
    "\n",
    "# Colab에서 직접 수정할 수 있는 입력창 생성\n",
    "text_area = widgets.Textarea(\n",
    "    value=revised_article,\n",
    "    placeholder=\"여기에 기사를 수정하세요...\",\n",
    "    layout=widgets.Layout(width=\"100%\", height=\"400px\")\n",
    ")\n",
    "\n",
    "# \"확정\" 버튼 추가\n",
    "confirm_button = widgets.Button(description=\"기사 확정\")\n",
    "\n",
    "# 확정된 기사를 저장할 변수\n",
    "final_article = \"\"\n",
    "\n",
    "# 버튼 클릭 이벤트 핸들러\n",
    "def on_confirm_clicked(b):\n",
    "    global final_article\n",
    "    final_article = text_area.value\n",
    "    print(\"\\n 최종 확정된 기사:\\n\")\n",
    "    print(final_article)\n",
    "\n",
    "confirm_button.on_click(on_confirm_clicked)\n",
    "\n",
    "# UI 표시\n",
    "display(text_area, confirm_button)\n"
   ]
  },
  {
   "cell_type": "code",
   "execution_count": null,
   "id": "f4b2210f",
   "metadata": {
    "vscode": {
     "languageId": "plaintext"
    }
   },
   "outputs": [],
   "source": []
  },
  {
   "cell_type": "code",
   "execution_count": null,
   "id": "d9cb94b1",
   "metadata": {
    "vscode": {
     "languageId": "plaintext"
    }
   },
   "outputs": [],
   "source": []
  }
 ],
 "metadata": {
  "language_info": {
   "name": "python"
  }
 },
 "nbformat": 4,
 "nbformat_minor": 5
}
